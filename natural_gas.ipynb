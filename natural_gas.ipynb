{
 "cells": [
  {
   "cell_type": "markdown",
   "id": "dfd4e96f",
   "metadata": {},
   "source": [
    "# Natural Gas Usage Forecasting"
   ]
  },
  {
   "cell_type": "markdown",
   "id": "9659bf08",
   "metadata": {},
   "source": [
    "### Problem Statement: \n",
    "Using the provided Natural Gas usage dataset (columns such as year, month, area-name, process-name, series, series-description, value in MMCF), develop a forecasting model that predicts future natural gas consumption. The intent is to use historical consumption patterns (by region and process) to estimate how much gas will be used for a given time (year/month), region (area-name), and process (process-name)."
   ]
  },
  {
   "cell_type": "markdown",
   "id": "b6be2c99",
   "metadata": {},
   "source": [
    "### Importing Required Libraries\n"
   ]
  },
  {
   "cell_type": "code",
   "execution_count": null,
   "id": "cf8e80ae",
   "metadata": {},
   "outputs": [],
   "source": [
    "import pandas as pd\n",
    "import numpy as np\n",
    "from sklearn.model_selection import TimeSeriesSplit\n",
    "from sklearn.preprocessing import OneHotEncoder\n",
    "from sklearn.compose import ColumnTransformer\n",
    "from sklearn.pipeline import Pipeline\n",
    "from sklearn.ensemble import RandomForestRegressor\n",
    "from sklearn.metrics import mean_absolute_error, mean_squared_error\n",
    "from math import sqrtk"
   ]
  },
  {
   "cell_type": "markdown",
   "id": "47079a11",
   "metadata": {},
   "source": [
    "## Dataset Overview"
   ]
  },
  {
   "cell_type": "markdown",
   "id": "d392179e",
   "metadata": {},
   "source": [
    "#### Dataset Details -1\n",
    "- Dataset Name: US Natural Gas Consumption Data\n",
    "- Source: https://www.kaggle.com/datasets/alistairking/natural-gas-usage\n",
    "- File format: .csv\n",
    "        "
   ]
  },
  {
   "cell_type": "markdown",
   "id": "2b8be156",
   "metadata": {},
   "source": [
    "### Dataset Description\n",
    "\n",
    "### Dataset Details -1\n",
    "\n",
    "Dataset Name : US Natural Gas Consumption Data\n",
    "\n",
    "Source : Kaggle.com (based on U.S. EIA data)\n",
    "\n",
    "File Format : .csv\n",
    "\n",
    "#### Dataset Description\n",
    "\n",
    "This dataset contains monthly records of natural gas consumption across U.S. states and regions, categorized by sector such as Residential, Commercial, Industrial, and Electric Power. Each row represents the measured consumption value for a given month, region, and process type. The dataset is useful for analyzing long-term energy usage patterns, comparing regional demand, and building forecasting models for future consumption.\n",
    "\n",
    "#### Feature Description\n",
    "\n",
    "- year : Year of the record\n",
    "\n",
    "- month : Month of the record\n",
    "\n",
    "- duoarea : Short region/state identifier code\n",
    "\n",
    "- area-name : Full name of the state/region\n",
    "\n",
    "- product : Energy product code\n",
    "\n",
    "- product-name : Product name (e.g., Natural Gas)\n",
    "\n",
    "- process : Sector code for type of usage\n",
    "\n",
    "- process-name : Consumption sector (Residential, Commercial, Industrial, Electric Power)\n",
    "\n",
    "- series : Unique identifier for the data series\n",
    "\n",
    "- series-description : Description of the data series (e.g., Natural Gas Deliveries to Residential Consumers)\n",
    "\n",
    "- value : Monthly natural gas consumption (in MMCF — million cubic feet)\n",
    "\n",
    "- units : Units of measurement (MMCF)\n",
    "\n",
    "\n",
    "### Dataset Details -2\n",
    "\n",
    "Dataset Name : Natural Gas Pricing & Weather Data (Supplementary)\n",
    "\n",
    "Source : Kaggle.com / U.S. EIA / NOAA (public energy & weather databases)\n",
    "\n",
    "File Format : .csv\n",
    "\n",
    "#### Dataset Description\n",
    "\n",
    "This supplementary dataset combines average natural gas prices (per state/region) with weather indicators such as heating degree days (HDD) and cooling degree days (CDD). These external variables influence demand and are highly relevant for forecasting. For example, colder winters increase Residential & Commercial consumption, while higher prices can reduce usage.\n",
    "\n",
    "#### Feature Description\n",
    "\n",
    "- date : Month and year of observation\n",
    "\n",
    "- state/region : Geographic area of record\n",
    "\n",
    "- avg_price : Average natural gas price for the region (USD per MMCF)\n",
    "\n",
    "- heating_degree_days (HDD) : Indicator of heating demand based on temperature below 65°F\n",
    "\n",
    "- cooling_degree_days (CDD) : Indicator of cooling demand based on temperature above 65°F\n",
    "\n",
    "- population_estimate : Optional demographic factor influencing demand\n",
    "\n",
    "\n",
    "\n",
    "\n",
    "Dataset 1 = Core production/consumption data\n",
    "\n",
    "Dataset 2 = Supplementary drivers (weather, price, demographics)"
   ]
  },
  {
   "cell_type": "markdown",
   "id": "f9daf118",
   "metadata": {},
   "source": [
    "### Loading the dataset"
   ]
  },
  {
   "cell_type": "code",
   "execution_count": null,
   "id": "4d6cb05c",
   "metadata": {},
   "outputs": [],
   "source": [
    "df = pd.read_csv(\"data.csv\")\n",
    "df['date'] = pd.to_datetime(df['year'].astype(str) + '-' + df['month'].astype(str) + '-01')\n",
    "df = df.sort_values(['area-name','process-name','date'])\n"
   ]
  },
  {
   "cell_type": "markdown",
   "id": "ea6a6598",
   "metadata": {},
   "source": [
    "#### Explore and Understand the Data\n"
   ]
  },
  {
   "cell_type": "code",
   "execution_count": null,
   "id": "9eeffb7d",
   "metadata": {},
   "outputs": [],
   "source": [
    "print(\"----- INFO -----\")\n",
    "df.info()\n",
    "\n",
    "print(\"\\n----- MISSING VALUES -----\")\n",
    "print(df.isnull().sum())\n",
    "\n",
    "print(\"\\n----- DESCRIBE -----\")\n",
    "print(df.describe(include='all'))"
   ]
  }
 ],
 "metadata": {
  "kernelspec": {
   "display_name": "Python 3",
   "language": "python",
   "name": "python3"
  },
  "language_info": {
   "codemirror_mode": {
    "name": "ipython",
    "version": 3
   },
   "file_extension": ".py",
   "mimetype": "text/x-python",
   "name": "python",
   "nbconvert_exporter": "python",
   "pygments_lexer": "ipython3",
   "version": "3.11.5"
  }
 },
 "nbformat": 4,
 "nbformat_minor": 5
}
